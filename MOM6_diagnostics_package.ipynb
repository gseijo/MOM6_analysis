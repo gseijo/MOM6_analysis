{
 "cells": [
  {
   "cell_type": "code",
   "execution_count": null,
   "id": "7543d7cc-6612-4f67-bc23-b6904954fed1",
   "metadata": {},
   "outputs": [],
   "source": [
    "# This notebook has been created as a diagnostics and quick validation package for the Caribbean regional CESM/MOM6 configuration"
   ]
  },
  {
   "cell_type": "code",
   "execution_count": null,
   "id": "bbd65db9-44af-4ed8-86d1-4a1e6432a2e6",
   "metadata": {},
   "outputs": [],
   "source": [
    "import requests, xarray, pandas, math, datetime\n",
    "import numpy as np\n",
    "from datetime import datetime, timedelta\n",
    "import xarray as xr\n",
    "from glob import glob\n",
    "import os\n",
    "import matplotlib.pyplot as plt\n",
    "import xesmf\n",
    "from boundary import *\n",
    "import pandas as pd"
   ]
  },
  {
   "cell_type": "code",
   "execution_count": null,
   "id": "c30125be-4036-4f96-82f5-ac09cbefc641",
   "metadata": {},
   "outputs": [],
   "source": [
    "#INPUTS:\n"
   ]
  },
  {
   "cell_type": "markdown",
   "id": "76835af1-aa1f-40bf-8734-346ac8259baf",
   "metadata": {},
   "source": [
    "### OBC validation:\n",
    "Validate the open boundary conditions. Will plot the original GLORYS data, OBCs and RG argo.\n"
   ]
  },
  {
   "cell_type": "code",
   "execution_count": null,
   "id": "549604e4-0ddd-4939-bee2-8d9307a9e57c",
   "metadata": {},
   "outputs": [],
   "source": []
  }
 ],
 "metadata": {
  "kernelspec": {
   "display_name": "Python [conda env:miniconda3-gridTools]",
   "language": "python",
   "name": "conda-env-miniconda3-gridTools-py"
  },
  "language_info": {
   "codemirror_mode": {
    "name": "ipython",
    "version": 3
   },
   "file_extension": ".py",
   "mimetype": "text/x-python",
   "name": "python",
   "nbconvert_exporter": "python",
   "pygments_lexer": "ipython3",
   "version": "3.7.12"
  }
 },
 "nbformat": 4,
 "nbformat_minor": 5
}
