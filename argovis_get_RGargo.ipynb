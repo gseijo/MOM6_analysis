{
 "cells": [
  {
   "cell_type": "markdown",
   "id": "061d6457-9a07-4eff-a978-2ccfb3669228",
   "metadata": {},
   "source": [
    "author: G.Seijo (giovanni.seijo@colorado.edu)\n",
    "\n",
    "This code uses argovis (argovis.colorado.edu) APIs to query gridded Argo data (https://argovis.colorado.edu/docs/Argovis_User_Guide_Gridded_Products.html) \\\n",
    "from the Roemmich and Gilson Argo product (https://sio-argo.ucsd.edu/RG_Climatology.html). \n",
    "\n",
    "Because the queries are limited by size (determined by time and area) we split the query into yearly \\\n",
    "downloads and then concatenate into an xarray data set that is then saved in a netcdf for further use."
   ]
  },
  {
   "cell_type": "code",
   "execution_count": 24,
   "id": "e412650f-a41e-4f4b-ab4c-c0115cb84a42",
   "metadata": {},
   "outputs": [],
   "source": [
    "import requests, xarray, pandas, math, datetime\n",
    "import numpy as np\n",
    "from datetime import datetime, timedelta\n",
    "import xarray as xr\n",
    "from glob import glob\n",
    "import os\n",
    "import matplotlib.pyplot as plt\n",
    "\n",
    "API_KEY='76d2fd7c7748d072c912163a5059d5f53e9e4475'"
   ]
  },
  {
   "cell_type": "code",
   "execution_count": 25,
   "id": "e3fb1712-0ccb-4237-8a8b-eb8e9ff06336",
   "metadata": {},
   "outputs": [],
   "source": [
    "def xargrid(grid):\n",
    "    # given the json response <grid> of a request to /grids,\n",
    "    # return an xarray object with coordinates time, lat, lon, depth, and measurement value.\n",
    "    \n",
    "    lat = []\n",
    "    lon = []\n",
    "    time = []\n",
    "    pres = []\n",
    "    meas = []\n",
    "    for p in grid[1:]:\n",
    "        for i, e in enumerate(p['d']):\n",
    "            lon.append(p['g']['coordinates'][0])\n",
    "            lat.append(p['g']['coordinates'][1])\n",
    "            # convert a string to a date (zeros to check at the end of date)\n",
    "            time.append(datetime.strptime(p['t'], '%Y-%m-%dT%H:%M:%S.%fZ'))\n",
    "            meas.append(p['d'][i])\n",
    "            pres.append(grid[0]['levels'][i])\n",
    "            \n",
    "    df = pandas.DataFrame({\"latitude\": lat, \n",
    "                           \"longitude\": lon, \n",
    "                           \"time\": time, \n",
    "                           \"pressure\": pres, \n",
    "                           \"measurement\": meas}).set_index([\"latitude\",\"longitude\",\"time\",\"pressure\"])\n",
    "    return df.to_xarray()"
   ]
  },
  {
   "cell_type": "code",
   "execution_count": 32,
   "id": "12ff2575-0a58-4c33-a803-cccec3dcada6",
   "metadata": {},
   "outputs": [],
   "source": [
    "#note: for a larger region, may need to partition the dates into smaller windows (i.e. monthly queries instead of yearly).\n",
    "#define argo api params\n",
    "grid_name = 'rgPsalTotal' #rgPsalTotal rgTempTotal\n",
    "start_date = ['2004-01-01T00:00:00Z','2005-01-01T00:00:00Z','2006-01-01T00:00:00Z','2007-01-01T00:00:00Z','2008-01-01T00:00:00Z','2009-01-01T00:00:00Z','2010-01-01T00:00:00Z','2011-01-01T00:00:00Z','2012-01-01T00:00:00Z','2013-01-01T00:00:00Z','2014-01-01T00:00:00Z']\n",
    "end_date = ['2004-12-31T00:00:00Z','2005-12-31T00:00:00Z','2006-12-31T00:00:00Z','2007-12-31T00:00:00Z','2008-12-31T00:00:00Z','2009-12-31T00:00:00Z','2010-12-31T00:00:00Z','2011-12-31T00:00:00Z','2012-12-31T00:00:00Z','2013-12-31T00:00:00Z','2014-12-31T00:00:00Z']\n",
    "poly = '[[-80.00318,35.393312],[-80.169981,32.417542],[-72.5837,33.627231],[-64.824686,34.362607],[-56.975164,34.602016],[-49.127944,34.338179],[-41.375559,33.579111],[-33.799479,32.347111],[-34.049679,35.120904],[-41.521475,36.407097],[-49.196772,37.214404],[-56.985605,37.518256],[-64.784292,37.309037],[-72.487922,36.593391],[-80.00318,35.393312]]'\n",
    "#north boudnary caribgrid '[[-80.00318,35.393312],[-80.169981,32.417542],[-72.5837,33.627231],[-64.824686,34.362607],[-56.975164,34.602016],[-49.127944,34.338179],[-41.375559,33.579111],[-33.799479,32.347111],[-34.049679,35.120904],[-41.521475,36.407097],[-49.196772,37.214404],[-56.985605,37.518256],[-64.784292,37.309037],[-72.487922,36.593391],[-80.00318,35.393312]]'\n",
    "#east boundary caribgrid'[[-37.043984,-5.773026],[-33.743845,-5.698398],[-33.92796,34.423183],[-36.95536,34.075624],[-37.043984,-5.773026]]'\n",
    "#central carib poly = '[[-70.022513,16.382647],[-69.997682,13.165754],[-62.548315,13.141574],[-62.622809,16.311165],[-70.022513,16.382647]]'\n",
    "pres_range = '0,150'#'0,5'\n",
    "outdir = '/glade/work/gseijo/obc_glorys/validation/'\n",
    "ncname = 'argo_'+grid_name+'_north_boundary_carib025_2004_2014.nc'"
   ]
  },
  {
   "cell_type": "code",
   "execution_count": 33,
   "id": "4b20cb10-e416-4c4e-b823-4196eb383331",
   "metadata": {},
   "outputs": [],
   "source": [
    "for i in range(len(end_date)):\n",
    "    params = {\n",
    "      \"gridName\": grid_name,\n",
    "      \"startDate\": start_date[i],\n",
    "      \"endDate\": end_date[i],\n",
    "      \"polygon\": poly,\n",
    "      \"presRange\":pres_range\n",
    "    }\n",
    "\n",
    "    r = requests.get('https://argovis-api.colorado.edu/grids', params=params, headers={'x-argokey': API_KEY})\n",
    "    rgdata = r.json()\n",
    "    \n",
    "    ds = xargrid(rgdata)\n",
    "    \n",
    "    if i == 0:\n",
    "        ds_all = ds\n",
    "    else:\n",
    "        ds_all = xr.concat([ds_all,ds],dim='time')\n",
    "ds.attrs['global_attribute'] = poly\n",
    "ds_all.to_netcdf(outdir+ncname)"
   ]
  },
  {
   "cell_type": "code",
   "execution_count": null,
   "id": "bf331c04-37c6-4e55-94b3-e713bbc40e29",
   "metadata": {},
   "outputs": [],
   "source": []
  }
 ],
 "metadata": {
  "kernelspec": {
   "display_name": "Python [conda env:miniconda3-gridTools]",
   "language": "python",
   "name": "conda-env-miniconda3-gridTools-py"
  },
  "language_info": {
   "codemirror_mode": {
    "name": "ipython",
    "version": 3
   },
   "file_extension": ".py",
   "mimetype": "text/x-python",
   "name": "python",
   "nbconvert_exporter": "python",
   "pygments_lexer": "ipython3",
   "version": "3.7.12"
  }
 },
 "nbformat": 4,
 "nbformat_minor": 5
}
