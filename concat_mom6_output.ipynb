{
 "cells": [
  {
   "cell_type": "markdown",
   "id": "a8aca85c-73f5-43db-81ac-004165a924e2",
   "metadata": {},
   "source": [
    "author: G.Seijo (giovanni.seijo@colorado.edu)\n",
    "\n",
    "This code concatenates daily MOM6 sfc (and other) outputs.\n",
    "\n",
    "Note: for very large runs it may be more practical to read each individual files when processing rather than build a single big file first."
   ]
  },
  {
   "cell_type": "code",
   "execution_count": null,
   "id": "c543f90d-8a4c-49c9-89a6-7d7c2c40f7b0",
   "metadata": {},
   "outputs": [
    {
     "name": "stdout",
     "output_type": "stream",
     "text": [
      "0  out of  60\n",
      "1  out of  60\n",
      "2  out of  60\n",
      "3  out of  60\n",
      "4  out of  60\n",
      "5  out of  60\n",
      "6  out of  60\n",
      "7  out of  60\n",
      "8  out of  60\n",
      "9  out of  60\n",
      "10  out of  60\n",
      "11  out of  60\n",
      "12  out of  60\n",
      "13  out of  60\n",
      "14  out of  60\n",
      "15  out of  60\n",
      "16  out of  60\n",
      "17  out of  60\n",
      "18  out of  60\n",
      "19  out of  60\n",
      "20  out of  60\n",
      "21  out of  60\n",
      "22  out of  60\n",
      "23  out of  60\n",
      "24  out of  60\n",
      "25  out of  60\n",
      "26  out of  60\n",
      "27  out of  60\n",
      "28  out of  60\n",
      "29  out of  60\n",
      "30  out of  60\n",
      "31  out of  60\n",
      "32  out of  60\n",
      "33  out of  60\n",
      "34  out of  60\n",
      "35  out of  60\n",
      "36  out of  60\n",
      "37  out of  60\n",
      "38  out of  60\n",
      "39  out of  60\n",
      "40  out of  60\n",
      "41  out of  60\n",
      "42  out of  60\n",
      "43  out of  60\n",
      "44  out of  60\n",
      "45  out of  60\n",
      "46  out of  60\n",
      "47  out of  60\n",
      "48  out of  60\n",
      "49  out of  60\n",
      "50  out of  60\n",
      "51  out of  60\n",
      "52  out of  60\n",
      "53  out of  60\n",
      "54  out of  60\n",
      "55  out of  60\n",
      "56  out of  60\n",
      "57  out of  60\n"
     ]
    }
   ],
   "source": [
    "import xarray as xr\n",
    "from glob import glob\n",
    "import os\n",
    "\n",
    "in_dir = '/glade/scratch/gseijo/CARIB_025.007.glofas/run/'\n",
    "out_dir = '/glade/work/gseijo/CARIB_025.007.glofas_proc/'\n",
    "case_name = 'CARIB_025.007.glofas'\n",
    "out_name = out_dir + case_name + '_sfc.nc'\n",
    "files = sorted(glob(os.path.join(in_dir,f'CARIB_025.007.mom6.sfc_20*.nc')))\n",
    "\n",
    "for i in range(len(files)):\n",
    "    data = xr.open_dataset(files[i])\n",
    "    if i == 0:\n",
    "        ds_mom = data\n",
    "    else:\n",
    "        ds_mom = xr.concat([ds_mom,data],dim='time')\n",
    " \n",
    "    print(i,' out of ',str(len(files)))\n",
    "\n",
    "ds_mom.to_netcdf(out_name)"
   ]
  }
 ],
 "metadata": {
  "kernelspec": {
   "display_name": "Python [conda env:miniconda3-gridTools]",
   "language": "python",
   "name": "conda-env-miniconda3-gridTools-py"
  },
  "language_info": {
   "codemirror_mode": {
    "name": "ipython",
    "version": 3
   },
   "file_extension": ".py",
   "mimetype": "text/x-python",
   "name": "python",
   "nbconvert_exporter": "python",
   "pygments_lexer": "ipython3",
   "version": "3.7.12"
  }
 },
 "nbformat": 4,
 "nbformat_minor": 5
}
